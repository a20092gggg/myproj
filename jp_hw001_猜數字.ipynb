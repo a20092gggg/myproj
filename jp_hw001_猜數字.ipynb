{
 "cells": [
  {
   "cell_type": "markdown",
   "metadata": {},
   "source": [
    "# 試著用randint()生成一個數字，搭配while if for來組合猜數字遊戲"
   ]
  },
  {
   "cell_type": "code",
   "execution_count": 1,
   "metadata": {},
   "outputs": [],
   "source": [
    "%matplotlib inline\n",
    "import numpy as np\n",
    "import matplotlib.pyplot as plt\n",
    "import pandas as pd"
   ]
  },
  {
   "cell_type": "code",
   "execution_count": 2,
   "metadata": {},
   "outputs": [
    {
     "name": "stdout",
     "output_type": "stream",
     "text": [
      "請從0~10猜個數字\n",
      "0\n",
      "很可惜，請繼續猜\n",
      "請從0~10猜個數字\n",
      "1\n",
      "很可惜，請繼續猜\n",
      "請從0~10猜個數字\n",
      "2\n",
      "很可惜，請繼續猜\n",
      "請從0~10猜個數字\n",
      "3\n",
      "很可惜，請繼續猜\n",
      "請從0~10猜個數字\n",
      "4\n",
      "很可惜，請繼續猜\n",
      "請從0~10猜個數字\n",
      "5\n",
      "你猜對了\n"
     ]
    }
   ],
   "source": [
    "#我自己覺得比較不好的寫法\n",
    "a = np.random.randint(10)\n",
    "for i in range(20):\n",
    "    b = float(input('請從0~10猜個數字\\n'))\n",
    "    if a==b:\n",
    "        print('你猜對了')\n",
    "        break\n",
    "    else:\n",
    "        print('很可惜，請繼續猜')\n",
    "            "
   ]
  },
  {
   "cell_type": "code",
   "execution_count": 3,
   "metadata": {},
   "outputs": [
    {
     "name": "stdout",
     "output_type": "stream",
     "text": [
      "請從0~10猜個數字\n",
      "0\n",
      "真可惜沒中，再試試?\n",
      "1\n",
      "真可惜沒中，再試試?\n",
      "2\n",
      "真可惜沒中，再試試?\n",
      "3\n",
      "真可惜沒中，再試試?\n",
      "4\n",
      "真可惜沒中，再試試?\n",
      "5\n",
      "真可惜沒中，再試試?\n",
      "6\n",
      "真可惜沒中，再試試?\n",
      "7\n",
      "真可惜沒中，再試試?\n",
      "8\n",
      "恭喜你答對了\n"
     ]
    }
   ],
   "source": [
    "a = np.random.randint(10)\n",
    "b = float(input('請從0~10猜個數字\\n'))\n",
    "while a!=b:\n",
    "    b = float(input('真可惜沒中，再試試?\\n'))\n",
    "\n",
    "while a==b:\n",
    "    print('恭喜你答對了')\n",
    "    break"
   ]
  },
  {
   "cell_type": "code",
   "execution_count": 85,
   "metadata": {},
   "outputs": [
    {
     "name": "stdout",
     "output_type": "stream",
     "text": [
      "請輸入你的四個數字，以空白分開1 3 5 7\n"
     ]
    }
   ],
   "source": [
    "k = [np.random.randint(10),np.random.randint(10),np.random.randint(10),np.random.randint(10)]\n",
    "\n",
    "#for i in range(3):\n",
    "while k[0]==k[1] or k[0]==k[3] or k[0]==k[2] or k[1]==k[2] or k[1]==k[3] or k[2]==k[3]:\n",
    "        k = [np.random.randint(10),np.random.randint(10),np.random.randint(10),np.random.randint(10)]    \n",
    "        \n",
    "k1 = input('請輸入你的四個數字，以空白分開')\n",
    "k1=k1.split(' ')"
   ]
  },
  {
   "cell_type": "code",
   "execution_count": 68,
   "metadata": {},
   "outputs": [
    {
     "data": {
      "text/plain": [
       "'2'"
      ]
     },
     "execution_count": 68,
     "metadata": {},
     "output_type": "execute_result"
    }
   ],
   "source": [
    "k1[1]"
   ]
  },
  {
   "cell_type": "code",
   "execution_count": 86,
   "metadata": {},
   "outputs": [
    {
     "name": "stdout",
     "output_type": "stream",
     "text": [
      "False\n",
      "False\n",
      "False\n",
      "False\n"
     ]
    }
   ],
   "source": [
    "for i in range(4):\n",
    "    k1[i]=float(k1[i])\n",
    "\n",
    "for i in range(4):\n",
    "    print(k1[i] == k[i])\n",
    "\n",
    "    "
   ]
  },
  {
   "cell_type": "code",
   "execution_count": 87,
   "metadata": {},
   "outputs": [
    {
     "data": {
      "text/plain": [
       "[2, 9, 1, 0]"
      ]
     },
     "execution_count": 87,
     "metadata": {},
     "output_type": "execute_result"
    }
   ],
   "source": [
    "k"
   ]
  },
  {
   "cell_type": "code",
   "execution_count": 74,
   "metadata": {},
   "outputs": [
    {
     "data": {
      "text/plain": [
       "[1.0, 2.0, 3.0, 4.0]"
      ]
     },
     "execution_count": 74,
     "metadata": {},
     "output_type": "execute_result"
    }
   ],
   "source": [
    "k1"
   ]
  },
  {
   "cell_type": "code",
   "execution_count": null,
   "metadata": {},
   "outputs": [],
   "source": []
  }
 ],
 "metadata": {
  "kernelspec": {
   "display_name": "Python 3",
   "language": "python",
   "name": "python3"
  },
  "language_info": {
   "codemirror_mode": {
    "name": "ipython",
    "version": 3
   },
   "file_extension": ".py",
   "mimetype": "text/x-python",
   "name": "python",
   "nbconvert_exporter": "python",
   "pygments_lexer": "ipython3",
   "version": "3.7.3"
  }
 },
 "nbformat": 4,
 "nbformat_minor": 2
}
