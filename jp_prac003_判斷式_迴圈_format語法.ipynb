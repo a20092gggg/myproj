{
 "cells": [
  {
   "cell_type": "markdown",
   "metadata": {},
   "source": [
    "# 基本條件判斷\n",
    "* and 以及 or\n",
    "* 不等於 !=\n",
    "* 邏輯判斷要用小括號\n",
    "* while\n",
    "\n",
    "# 迴圈\n",
    "* s=s+1\n",
    "\n",
    "# format寫法\n",
    "* 原本用'str'+字串的寫法\n",
    "* 改成 'str{}'.format(變數A,變數B)"
   ]
  },
  {
   "cell_type": "code",
   "execution_count": 1,
   "metadata": {},
   "outputs": [
    {
     "name": "stdout",
     "output_type": "stream",
     "text": [
      "*\n",
      "**\n",
      "***\n",
      "****\n",
      "*****\n",
      "******\n",
      "*******\n",
      "********\n",
      "*********\n"
     ]
    }
   ],
   "source": [
    "s=1\n",
    "while s<10:\n",
    "    print('*'*s)\n",
    "    s=s+1"
   ]
  },
  {
   "cell_type": "code",
   "execution_count": 3,
   "metadata": {},
   "outputs": [
    {
     "name": "stdout",
     "output_type": "stream",
     "text": [
      ">> bye\n",
      "拍拍\n"
     ]
    }
   ],
   "source": [
    "msg=''\n",
    "while msg != 'bye':\n",
    "    msg = input(\">> \")\n",
    "    print('拍拍')\n",
    "    "
   ]
  },
  {
   "cell_type": "code",
   "execution_count": 4,
   "metadata": {},
   "outputs": [],
   "source": [
    "a1= '我是曾柏睿'\n",
    "a2='我來自台北'"
   ]
  },
  {
   "cell_type": "code",
   "execution_count": 5,
   "metadata": {},
   "outputs": [],
   "source": [
    "msg='你好,{}{}'.format(a1,a2)"
   ]
  },
  {
   "cell_type": "code",
   "execution_count": 6,
   "metadata": {},
   "outputs": [
    {
     "name": "stdout",
     "output_type": "stream",
     "text": [
      "你好,我是曾柏睿我來自台北\n"
     ]
    }
   ],
   "source": [
    "print(msg)"
   ]
  },
  {
   "cell_type": "code",
   "execution_count": 7,
   "metadata": {},
   "outputs": [
    {
     "name": "stdout",
     "output_type": "stream",
     "text": [
      "30美金折合台幣915.0元\n"
     ]
    }
   ],
   "source": [
    "print('{}美金折合台幣{}元'.format(30,30*30.5))"
   ]
  },
  {
   "cell_type": "code",
   "execution_count": 9,
   "metadata": {},
   "outputs": [
    {
     "name": "stdout",
     "output_type": "stream",
     "text": [
      "300美金折合台幣9150.0元\n"
     ]
    }
   ],
   "source": [
    "a=300\n",
    "print('{}美金折合台幣{}元'.format(a,a*30.5))"
   ]
  },
  {
   "cell_type": "code",
   "execution_count": null,
   "metadata": {},
   "outputs": [],
   "source": []
  }
 ],
 "metadata": {
  "kernelspec": {
   "display_name": "Python 3",
   "language": "python",
   "name": "python3"
  },
  "language_info": {
   "codemirror_mode": {
    "name": "ipython",
    "version": 3
   },
   "file_extension": ".py",
   "mimetype": "text/x-python",
   "name": "python",
   "nbconvert_exporter": "python",
   "pygments_lexer": "ipython3",
   "version": "3.7.1"
  }
 },
 "nbformat": 4,
 "nbformat_minor": 2
}
