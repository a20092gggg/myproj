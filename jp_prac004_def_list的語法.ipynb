{
 "cells": [
  {
   "cell_type": "markdown",
   "metadata": {},
   "source": [
    "# 函數基本寫法\n",
    "* def 函數名稱(變數)\n",
    "      函數內容\n",
    "* 用return 跟 print是不一樣的\n",
    "* return會除存在變數之中，print則是直接列出來，不會儲存\n",
    "\n",
    "# List的用法\n",
    "* 空格表示分隔的號碼，如下圖\n",
    "\n",
    "![圖片](2.JPG)\n",
    "\n",
    "* 字串與list有相同的意義(相同的切割)。\n",
    "* range()為快速生成數字區間的list\n",
    "* list('字串')= '字''串'的list分割\n"
   ]
  },
  {
   "cell_type": "code",
   "execution_count": 4,
   "metadata": {},
   "outputs": [
    {
     "name": "stdout",
     "output_type": "stream",
     "text": [
      "您的大名>> 12\n",
      "你住哪>> 21\n"
     ]
    },
    {
     "data": {
      "text/plain": [
       "'你好，來自21的12!'"
      ]
     },
     "execution_count": 4,
     "metadata": {},
     "output_type": "execute_result"
    }
   ],
   "source": [
    "name=input('您的大名>> ')  #輸入你的資料\n",
    "place = input('你住哪>> ')\n",
    "\n",
    "\n",
    "def say_hi(name,place):\n",
    "    msg='你好，來自{}的{}!'.format(place,name)\n",
    "    return msg\n",
    "say_hi(name,place)"
   ]
  },
  {
   "cell_type": "code",
   "execution_count": 1,
   "metadata": {},
   "outputs": [],
   "source": [
    "l=[1,5,6,9,7]"
   ]
  },
  {
   "cell_type": "code",
   "execution_count": 2,
   "metadata": {},
   "outputs": [
    {
     "data": {
      "text/plain": [
       "[1, 5, 6]"
      ]
     },
     "execution_count": 2,
     "metadata": {},
     "output_type": "execute_result"
    }
   ],
   "source": [
    "l[:-2]"
   ]
  },
  {
   "cell_type": "code",
   "execution_count": 6,
   "metadata": {},
   "outputs": [
    {
     "name": "stdout",
     "output_type": "stream",
     "text": [
      "12\n"
     ]
    }
   ],
   "source": [
    "a=s"
   ]
  },
  {
   "cell_type": "code",
   "execution_count": null,
   "metadata": {},
   "outputs": [],
   "source": []
  }
 ],
 "metadata": {
  "kernelspec": {
   "display_name": "Python 3",
   "language": "python",
   "name": "python3"
  },
  "language_info": {
   "codemirror_mode": {
    "name": "ipython",
    "version": 3
   },
   "file_extension": ".py",
   "mimetype": "text/x-python",
   "name": "python",
   "nbconvert_exporter": "python",
   "pygments_lexer": "ipython3",
   "version": "3.7.1"
  }
 },
 "nbformat": 4,
 "nbformat_minor": 2
}
